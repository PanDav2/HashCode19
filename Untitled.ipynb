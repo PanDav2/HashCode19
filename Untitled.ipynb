{
 "cells": [
  {
   "cell_type": "code",
   "execution_count": 1,
   "metadata": {},
   "outputs": [],
   "source": [
    "from reader import read_input, generate_output"
   ]
  },
  {
   "cell_type": "code",
   "execution_count": 2,
   "metadata": {
    "collapsed": true
   },
   "outputs": [],
   "source": [
    "files = [\n",
    "    'a_example.txt',\n",
    "    'b_lovely_landscapes.txt',\n",
    "    'c_memorable_moments.txt',\n",
    "    'd_pet_pictures.txt',\n",
    "    'e_shiny_selfies.txt'\n",
    "]"
   ]
  },
  {
   "cell_type": "code",
   "execution_count": 3,
   "metadata": {
    "collapsed": true
   },
   "outputs": [],
   "source": [
    "file = files[0]"
   ]
  },
  {
   "cell_type": "code",
   "execution_count": null,
   "metadata": {},
   "outputs": [],
   "source": []
  },
  {
   "cell_type": "code",
   "execution_count": 4,
   "metadata": {},
   "outputs": [],
   "source": [
    "def vh(file):\n",
    "    photos = read_input(f\"./data/{file}\")\n",
    "    photos\n",
    "    v = [p for p in photos if p.orient]\n",
    "    h  = [p for p in photos if not p.orient]\n",
    "    return v, h"
   ]
  },
  {
   "cell_type": "code",
   "execution_count": 5,
   "metadata": {},
   "outputs": [
    {
     "name": "stdout",
     "output_type": "stream",
     "text": [
      "[(V {'smile', 'selfie'}, V {'garden', 'selfie'}), [H {'cat', 'sun', 'beach'}], [H {'cat', 'garden'}]]\n"
     ]
    },
    {
     "name": "stderr",
     "output_type": "stream",
     "text": [
      "IOPub data rate exceeded.\n",
      "The notebook server will temporarily stop sending output\n",
      "to the client in order to avoid crashing it.\n",
      "To change this limit, set the config variable\n",
      "`--NotebookApp.iopub_data_rate_limit`.\n"
     ]
    }
   ],
   "source": [
    "for file in files:\n",
    "    v, h = vh(file)\n",
    "    vs = [(i, k) for i,k in zip(v[0::2], v[1::2])]\n",
    "    vs.extend([[hs] for hs in h])\n",
    "    generate_output(vs, f\"./out/{file}.out\")\n",
    "       "
   ]
  },
  {
   "cell_type": "code",
   "execution_count": 6,
   "metadata": {},
   "outputs": [],
   "source": [
    "from numba import jit\n",
    "from score import score\n",
    "\n",
    "def reorder(slides):\n",
    "    s = slides.pop()\n",
    "    ns = [s]\n",
    "    while len(slides) > 0:\n",
    "        scores = [score((s, s2)) for s2 in slides[:500]]\n",
    "        index  = scores.index(max(scores))\n",
    "        s = slides.pop(index)\n",
    "        ns.append(s)\n",
    "    return ns\n",
    "\n",
    "def reorder2(slides):\n",
    "    for i in range(100):\n",
    "        scores = [score((s1, s2)) for s1,s2 in zip(slides[:-1], slides[1:])]\n",
    "        tscores = [p1 + p2 for p1, p2 in zip(scores[:-1], scores[1:])]\n",
    "        index  = tscores.index(min(tscores))\n",
    "        s = slides.pop(index + 1)\n",
    "        scores = [score((s, s2)) for s2 in slides]\n",
    "        tscores = [p1 + p2 for p1, p2 in zip(scores[:-1], scores[1:])]\n",
    "        slides.insert(index + 1, s)\n",
    "    return ns\n",
    "        \n",
    "\n",
    "def tags(x):\n",
    "    if len(x) == 1:\n",
    "        return len(x[0].tags)\n",
    "    return len(x[0].tags.union(x[1].tags))"
   ]
  },
  {
   "cell_type": "code",
   "execution_count": null,
   "metadata": {
    "scrolled": true
   },
   "outputs": [
    {
     "name": "stdout",
     "output_type": "stream",
     "text": [
      "a_example.txt\n",
      "b_lovely_landscapes.txt\n"
     ]
    }
   ],
   "source": [
    "for file in files:\n",
    "    print(file)\n",
    "    v, h = vh(file)\n",
    "    vs = [[i, k] for i,k in zip(v[0::2], v[1::2])]\n",
    "    vs.extend([[hs] for hs in h])\n",
    "    vs = sorted(vs, key=lambda x: tags(x))\n",
    "    ns = reorder(vs)\n",
    "    ns = reorder2(ns)\n",
    "    generate_output(ns, f\"./out/{file}.out\")"
   ]
  },
  {
   "cell_type": "code",
   "execution_count": null,
   "metadata": {
    "collapsed": true
   },
   "outputs": [],
   "source": []
  }
 ],
 "metadata": {
  "kernelspec": {
   "display_name": "Python 3",
   "language": "python",
   "name": "python3"
  },
  "language_info": {
   "codemirror_mode": {
    "name": "ipython",
    "version": 3
   },
   "file_extension": ".py",
   "mimetype": "text/x-python",
   "name": "python",
   "nbconvert_exporter": "python",
   "pygments_lexer": "ipython3",
   "version": "3.6.1"
  }
 },
 "nbformat": 4,
 "nbformat_minor": 2
}
