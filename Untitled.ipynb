{
 "cells": [
  {
   "cell_type": "code",
   "execution_count": 60,
   "metadata": {},
   "outputs": [],
   "source": [
    "from reader import read_input, generate_output"
   ]
  },
  {
   "cell_type": "code",
   "execution_count": 61,
   "metadata": {
    "collapsed": true
   },
   "outputs": [],
   "source": [
    "files = [\n",
    "    'a_example.txt',\n",
    "    'b_lovely_landscapes.txt',\n",
    "    'c_memorable_moments.txt',\n",
    "    'd_pet_pictures.txt',\n",
    "    'e_shiny_selfies.txt'\n",
    "]"
   ]
  },
  {
   "cell_type": "code",
   "execution_count": 62,
   "metadata": {
    "collapsed": true
   },
   "outputs": [],
   "source": [
    "file = files[0]"
   ]
  },
  {
   "cell_type": "code",
   "execution_count": null,
   "metadata": {},
   "outputs": [],
   "source": []
  },
  {
   "cell_type": "code",
   "execution_count": 63,
   "metadata": {},
   "outputs": [],
   "source": [
    "def vh(file):\n",
    "    photos = read_input(f\"./data/{file}\")\n",
    "    photos\n",
    "    v = [p for p in photos if p.orient]\n",
    "    h  = [p for p in photos if not p.orient]\n",
    "    return v, h"
   ]
  },
  {
   "cell_type": "code",
   "execution_count": 64,
   "metadata": {},
   "outputs": [
    {
     "name": "stdout",
     "output_type": "stream",
     "text": [
      "[(V {'smile', 'selfie'}, V {'garden', 'selfie'}), [H {'cat', 'beach', 'sun'}], [H {'cat', 'garden'}]]\n"
     ]
    },
    {
     "name": "stderr",
     "output_type": "stream",
     "text": [
      "IOPub data rate exceeded.\n",
      "The notebook server will temporarily stop sending output\n",
      "to the client in order to avoid crashing it.\n",
      "To change this limit, set the config variable\n",
      "`--NotebookApp.iopub_data_rate_limit`.\n"
     ]
    }
   ],
   "source": [
    "for file in files:\n",
    "    v, h = vh(file)\n",
    "    vs = [(i, k) for i,k in zip(v[0::2], v[1::2])]\n",
    "    vs.extend([[hs] for hs in h])\n",
    "    print(vs)\n",
    "    generate_output(vs, f\"./out/{file}.out\")\n",
    "       "
   ]
  },
  {
   "cell_type": "code",
   "execution_count": 67,
   "metadata": {},
   "outputs": [],
   "source": [
    "from score import score\n",
    "\n",
    "def reorder(slides):\n",
    "    s = slides.pop()\n",
    "    ns = [s]\n",
    "    while len(slides) > 0:\n",
    "        scores = [score((s, s2)) for s2 in slides[:10]]\n",
    "#         print(scores)\n",
    "        index  = scores.index(max(scores))\n",
    "        s = slides.pop(index)\n",
    "        ns.append(s)\n",
    "    return ns"
   ]
  },
  {
   "cell_type": "code",
   "execution_count": 68,
   "metadata": {
    "scrolled": true
   },
   "outputs": [
    {
     "name": "stdout",
     "output_type": "stream",
     "text": [
      "a_example.txt\n",
      "b_lovely_landscapes.txt\n",
      "c_memorable_moments.txt\n",
      "d_pet_pictures.txt\n",
      "e_shiny_selfies.txt\n"
     ]
    }
   ],
   "source": [
    "for file in files:\n",
    "    print(file)\n",
    "    v, h = vh(file)\n",
    "    vs = [(i, k) for i,k in zip(v[0::2], v[1::2])]\n",
    "    vs.extend([[hs] for hs in h])\n",
    "    ns = reorder(vs)\n",
    "    generate_output(ns, f\"./out/{file}.out\")"
   ]
  },
  {
   "cell_type": "code",
   "execution_count": null,
   "metadata": {
    "collapsed": true
   },
   "outputs": [],
   "source": []
  }
 ],
 "metadata": {
  "kernelspec": {
   "display_name": "Python 3",
   "language": "python",
   "name": "python3"
  },
  "language_info": {
   "codemirror_mode": {
    "name": "ipython",
    "version": 3
   },
   "file_extension": ".py",
   "mimetype": "text/x-python",
   "name": "python",
   "nbconvert_exporter": "python",
   "pygments_lexer": "ipython3",
   "version": "3.6.1"
  }
 },
 "nbformat": 4,
 "nbformat_minor": 2
}
